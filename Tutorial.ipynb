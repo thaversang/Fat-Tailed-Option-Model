{
 "cells": [
  {
   "cell_type": "markdown",
   "metadata": {},
   "source": [
    "# Tutorial\n",
    "\n",
    "I utilize a package called fast-arrow, which was developed by Weston Platter. It's a Robinhood API wrapper. It's great. Unfortunately, it can be a little finicky. If you have any problems, just message me and I will help figure it out. But basically, all we need acess to is options chain data. In the tutorial below, I will go through (in more depth) exactly what information we have, how it is structured. \n",
    "### Import Packages"
   ]
  },
  {
   "cell_type": "code",
   "execution_count": 1,
   "metadata": {},
   "outputs": [
    {
     "name": "stdout",
     "output_type": "stream",
     "text": [
      "Packages Imported\n"
     ]
    }
   ],
   "source": [
    "import numpy as np\n",
    "import matplotlib.pyplot as plt\n",
    "import pandas as pd\n",
    "import getpass\n",
    "import os\n",
    "cdir =os.getcwd()\n",
    "os.chdir('Fat_Tailed_Option_Model')\n",
    "try:\n",
    "    from Robinhood_Data_Datafetcher import Robinhood_Data\n",
    "    from Fat_Tailed_Model import Fat_Tailed_Option_Model\n",
    "    print('Packages Imported')\n",
    "    os.chdir(cdir)\n",
    "except:\n",
    "    os.chdir(cdir)\n",
    "\n",
    "from mpl_toolkits.mplot3d import Axes3D  # noqa: F401 un\n",
    "from matplotlib import cm\n",
    "from matplotlib.ticker import LinearLocator, FormatStrFormatter"
   ]
  },
  {
   "cell_type": "code",
   "execution_count": 2,
   "metadata": {},
   "outputs": [
    {
     "name": "stdout",
     "output_type": "stream",
     "text": [
      "Username:\n",
      "thaversang@gmail.com\n",
      "········\n",
      "Trys: 1.\n"
     ]
    }
   ],
   "source": [
    "print('RobinHood Username:')\n",
    "username = input()\n",
    "print('RobinHood PW:')\n",
    "password = getpass.getpass()\n",
    "data = Robinhood_Data(username,password) "
   ]
  },
  {
   "cell_type": "markdown",
   "metadata": {},
   "source": [
    "### The Robinhood_Data Object\n",
    "This object `data` allows us to fetch data for a given symbol. We have two methods available. One can fetch the data for a specific symbol on a specific expiration date. The method is called `data.get_options_robinhood`. The other, `data.get_all_options_robinhood` fetches *all* of the expirations. \n",
    "\n",
    "A quick note about a small quirk. The method `data.get_options_robinhood` returns just one pandas dataframe, containing the calls and puts together. This can be easily split into calls and puts by using a filter on the `type` column. The method `data.get_all_options_robinhood` returns three objects, which are calls, puts and the spot price. \n",
    "\n",
    "Further, the method `data.get_all_options_robinhood` is built on top of DASK, to hasten the datafetching process. Rather than fetch the data one after another in a loop, the data is fetched in parallel. "
   ]
  },
  {
   "cell_type": "code",
   "execution_count": 3,
   "metadata": {},
   "outputs": [],
   "source": [
    "option_df = data.get_options_robinhood('SPY',exp = '2019-09-20')\n",
    "call_df,put_df = option_df.loc[option_df.type =='call'],option_df.loc[option_df.type =='put']\n",
    "spot_ = call_df.spot_price.iat[0]"
   ]
  },
  {
   "cell_type": "code",
   "execution_count": null,
   "metadata": {},
   "outputs": [],
   "source": [
    "plt.plot(put_df.strike_price,put_df.adjusted_mark_price,'.')\n",
    "plt.plot(call_df.strike_price,call_df.adjusted_mark_price,'.')\n",
    "plt.legend(['Put','Call'])"
   ]
  },
  {
   "cell_type": "code",
   "execution_count": null,
   "metadata": {},
   "outputs": [],
   "source": []
  },
  {
   "cell_type": "markdown",
   "metadata": {},
   "source": [
    "# Examining The Surfaces"
   ]
  },
  {
   "cell_type": "code",
   "execution_count": null,
   "metadata": {},
   "outputs": [],
   "source": []
  },
  {
   "cell_type": "code",
   "execution_count": null,
   "metadata": {},
   "outputs": [],
   "source": [
    "f = puts.loc[(puts.bid_size>0) & (puts.ask_size >0)]\n",
    "f.expiration_date = f.expiration_date.astype(np.int)\n",
    "X,Y,Z = get_surface(f.copy(),'strike_price','expiration_date','delta')"
   ]
  },
  {
   "cell_type": "code",
   "execution_count": null,
   "metadata": {},
   "outputs": [],
   "source": []
  },
  {
   "cell_type": "code",
   "execution_count": null,
   "metadata": {
    "scrolled": false
   },
   "outputs": [],
   "source": [
    "fig = plt.figure()\n",
    "ax = fig.gca(projection='3d')\n",
    "surf = ax.plot_surface(X, Y, Z, cmap='bone_r',linewidth=0.5, antialiased=False,edgewidth = 2)\n",
    "fig.colorbar(surf, shrink=0.5, aspect=5)\n",
    "plt.show()\n"
   ]
  },
  {
   "cell_type": "code",
   "execution_count": null,
   "metadata": {},
   "outputs": [],
   "source": []
  },
  {
   "cell_type": "code",
   "execution_count": null,
   "metadata": {},
   "outputs": [],
   "source": []
  },
  {
   "cell_type": "markdown",
   "metadata": {},
   "source": [
    "### Split the Data Using .Groupby Method\n",
    "Having all the calls in one frame can be a little overwhelming. We can choose to group based on the expiration date or on the strike, and make meaningful comparisions if we so choose. "
   ]
  },
  {
   "cell_type": "code",
   "execution_count": null,
   "metadata": {},
   "outputs": [],
   "source": [
    "calls.index = calls.chain_id\n",
    "puts.index = puts.chain_id\n",
    "call_strike_group = calls.groupby('strike_price')\n",
    "call_exp_group = calls.groupby('expiration_date')\n",
    "puts_strike_group = puts.groupby('strike_price')\n",
    "puts_exp_group = puts.groupby('expiration_date')"
   ]
  },
  {
   "cell_type": "code",
   "execution_count": null,
   "metadata": {},
   "outputs": [],
   "source": [
    "plt.plot(pd.to_datetime(puts_strike_group.get_group(280).expiration_date),\n",
    "         puts_strike_group.get_group(280).gamma)\n",
    "\n",
    "\n"
   ]
  },
  {
   "cell_type": "code",
   "execution_count": null,
   "metadata": {
    "scrolled": false
   },
   "outputs": [],
   "source": [
    "puts.expiration_date"
   ]
  },
  {
   "cell_type": "code",
   "execution_count": null,
   "metadata": {},
   "outputs": [],
   "source": []
  },
  {
   "cell_type": "code",
   "execution_count": null,
   "metadata": {},
   "outputs": [],
   "source": []
  },
  {
   "cell_type": "code",
   "execution_count": null,
   "metadata": {},
   "outputs": [],
   "source": []
  },
  {
   "cell_type": "code",
   "execution_count": null,
   "metadata": {},
   "outputs": [],
   "source": []
  },
  {
   "cell_type": "code",
   "execution_count": null,
   "metadata": {
    "scrolled": false
   },
   "outputs": [],
   "source": [
    "call,put, spot = data.get_all_options_robinhood('AXP')"
   ]
  },
  {
   "cell_type": "code",
   "execution_count": null,
   "metadata": {},
   "outputs": [],
   "source": [
    "model = Fat_Tailed_Option_Model(call_option_dataframe=call,put_option_dataframe=put,\n",
    "                                cutoff_thresh=0.25,\n",
    "                                evaluation_date='2019-08-17',symbol = 'AFA')\n",
    "\n"
   ]
  },
  {
   "cell_type": "code",
   "execution_count": null,
   "metadata": {},
   "outputs": [],
   "source": []
  },
  {
   "cell_type": "code",
   "execution_count": null,
   "metadata": {},
   "outputs": [],
   "source": [
    "model.fit_puts(weights='open_interest')\n",
    "model.fit_calls(weights='open_interest')"
   ]
  },
  {
   "cell_type": "code",
   "execution_count": null,
   "metadata": {},
   "outputs": [],
   "source": [
    "g = model.deep_otm_calls.groupby('expiration_date')\n",
    "for i in g.groups.keys():\n",
    "    print(i,len(g.get_group(i)))"
   ]
  },
  {
   "cell_type": "code",
   "execution_count": null,
   "metadata": {},
   "outputs": [],
   "source": [
    "df = g.get_group('2019-08-30')"
   ]
  },
  {
   "cell_type": "code",
   "execution_count": null,
   "metadata": {},
   "outputs": [],
   "source": [
    "plt.figure(figsize =(6,4),dpi = 200)\n",
    "plt.plot(df.high_fill_rate_sell_price,'-')\n",
    "plt.plot(df.high_fill_rate_buy_price,'.')\n",
    "plt.plot(df.model_price,'-o')\n",
    "print(model.put_alpha)"
   ]
  },
  {
   "cell_type": "code",
   "execution_count": null,
   "metadata": {},
   "outputs": [],
   "source": [
    "model.put_alpha"
   ]
  },
  {
   "cell_type": "code",
   "execution_count": null,
   "metadata": {},
   "outputs": [],
   "source": []
  },
  {
   "cell_type": "code",
   "execution_count": null,
   "metadata": {},
   "outputs": [],
   "source": []
  },
  {
   "cell_type": "code",
   "execution_count": null,
   "metadata": {},
   "outputs": [],
   "source": []
  },
  {
   "cell_type": "code",
   "execution_count": null,
   "metadata": {},
   "outputs": [],
   "source": []
  },
  {
   "cell_type": "code",
   "execution_count": null,
   "metadata": {},
   "outputs": [],
   "source": []
  },
  {
   "cell_type": "code",
   "execution_count": null,
   "metadata": {},
   "outputs": [],
   "source": [
    "\n"
   ]
  },
  {
   "cell_type": "code",
   "execution_count": null,
   "metadata": {},
   "outputs": [],
   "source": []
  },
  {
   "cell_type": "code",
   "execution_count": null,
   "metadata": {},
   "outputs": [],
   "source": []
  },
  {
   "cell_type": "code",
   "execution_count": null,
   "metadata": {},
   "outputs": [],
   "source": []
  },
  {
   "cell_type": "code",
   "execution_count": null,
   "metadata": {},
   "outputs": [],
   "source": []
  },
  {
   "cell_type": "code",
   "execution_count": null,
   "metadata": {},
   "outputs": [],
   "source": []
  },
  {
   "cell_type": "code",
   "execution_count": null,
   "metadata": {},
   "outputs": [],
   "source": []
  },
  {
   "cell_type": "code",
   "execution_count": null,
   "metadata": {},
   "outputs": [],
   "source": [
    "#historical returns\n",
    "spy = pd.read_csv('SPY.csv',index_col = 0)\n",
    "returns = spy['Adj Close'].pct_change().dropna().sort_values()\n"
   ]
  },
  {
   "cell_type": "code",
   "execution_count": null,
   "metadata": {},
   "outputs": [],
   "source": [
    "#normal variables, with same mean and standard deviation as historical returns\n",
    "standard_normal = np.random.normal(size = 1000000)\n",
    "standard_normal = standard_normal - standard_normal.mean()\n",
    "standard_normal = standard_normal/standard_normal.std()\n",
    "normal_vars = pd.Series((standard_normal)*returns.std() + returns.mean())"
   ]
  },
  {
   "cell_type": "code",
   "execution_count": null,
   "metadata": {},
   "outputs": [],
   "source": [
    "#let's simulate_prices...\n",
    "rvs = np.random.uniform(size = 10**5)\n",
    "normal_prices = (1+normal_vars.quantile(rvs))*100\n",
    "normal_prices.index = np.arange(0,len(normal_prices))\n",
    "historical_prices = (1+returns.quantile(rvs))*100\n",
    "historical_prices.index = np.arange(0,len(historical_prices))"
   ]
  },
  {
   "cell_type": "code",
   "execution_count": null,
   "metadata": {},
   "outputs": [],
   "source": [
    "# let's sell some OTM puts\n",
    "def get_profit(strike,spot, premium):\n",
    "    if strike>spot:\n",
    "        return (strike - spot)#loss\n",
    "    else:\n",
    "        return premium # gain premium"
   ]
  },
  {
   "cell_type": "code",
   "execution_count": null,
   "metadata": {},
   "outputs": [],
   "source": [
    "#get the fair price\n",
    "strike = 120\n",
    "historical_fair_price = np.maximum(strike-historical_prices,0).mean()\n",
    "normal_fair_price = np.maximum(strike-normal_prices,0).mean()"
   ]
  },
  {
   "cell_type": "code",
   "execution_count": null,
   "metadata": {},
   "outputs": [],
   "source": [
    "print('Fair Price from Historical Data ',historical_fair_price)\n",
    "print('Fair Price from Normal Data ',normal_fair_price)"
   ]
  },
  {
   "cell_type": "code",
   "execution_count": null,
   "metadata": {},
   "outputs": [],
   "source": [
    "normal_pnl = normal_prices.apply(lambda x: get_profit(strike, spot = x,premium = normal_fair_price))\n",
    "hist_pnl = historical_prices.apply(lambda x: get_profit(strike, spot = x,premium = historical_fair_price))\n"
   ]
  },
  {
   "cell_type": "code",
   "execution_count": null,
   "metadata": {},
   "outputs": [],
   "source": [
    "normal_pnl.cumsum().plot()\n",
    "normal_pnl.cumsum().plot()"
   ]
  },
  {
   "cell_type": "code",
   "execution_count": null,
   "metadata": {},
   "outputs": [],
   "source": [
    "normal_prices.plot()"
   ]
  },
  {
   "cell_type": "code",
   "execution_count": null,
   "metadata": {},
   "outputs": [],
   "source": []
  }
 ],
 "metadata": {
  "kernelspec": {
   "display_name": "Python 3",
   "language": "python",
   "name": "python3"
  },
  "language_info": {
   "codemirror_mode": {
    "name": "ipython",
    "version": 3
   },
   "file_extension": ".py",
   "mimetype": "text/x-python",
   "name": "python",
   "nbconvert_exporter": "python",
   "pygments_lexer": "ipython3",
   "version": "3.6.5"
  }
 },
 "nbformat": 4,
 "nbformat_minor": 2
}
