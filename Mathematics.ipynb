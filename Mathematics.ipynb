{
 "cells": [
  {
   "cell_type": "markdown",
   "metadata": {},
   "source": [
    "# What is the Price of an Option?"
   ]
  },
  {
   "cell_type": "markdown",
   "metadata": {},
   "source": [
    "The price of an option is a simple integral:\n",
    "\n",
    "$$Call Price = \\int_k^\\infty max(S_t-K,0)\\phi(S_t)dS_t$$\n",
    "\n",
    "Under Black scholes, we assume the price ($S_t$) follows a log normal distribution, where $\\phi (S_t)$ (the PDF of the distribution of S), is\n",
    "\n",
    "$$\\phi(S_t) = \\frac{\\exp{-\\frac{(\\log (S_t)-\\mu )^2}{2 \\sigma ^2}}}{\\sqrt{2 \\pi } \\sigma  S_t}$$\n",
    "\n",
    "and the moments are \n",
    "\n",
    "$$E[S_t] = S_0e^{(\\mu +\\frac{\\sigma ^2}{2})t}$$\n",
    "\n",
    "$$Var[S_t] = S_0^2\\left(e^{\\sigma ^2t}-1\\right) e^{2 \\mu t +\\sigma ^2t}$$\n",
    "\n",
    "Therefore, we can price the call simply with:\n",
    "\n",
    "$$Call Price = \\int_k^\\infty max(S_t-K,0)* \\frac{\\exp{-\\frac{(\\log (S_t)-\\mu )^2}{2 \\sigma ^2}}}{\\sqrt{2 \\pi } \\sigma  S_t}ds$$\n",
    "\n",
    "Fortunately this has a known solution and this is the Black Scholes formula"
   ]
  },
  {
   "cell_type": "markdown",
   "metadata": {},
   "source": [
    "## Definition of a Call Option\n",
    "The value of a call option is simply struck at price K,\n",
    "\n",
    "$$\\text{Call} = \\int_K^\\infty \\max(S_t-K,0)\\phi(S_t)dS_t$$The Black-Scholes model assumes a distribution of $\\phi(S_t)$ as being log normal motivated by geometric Brownian Motion. \n",
    "***\n",
    "## Single Period Return Model\n",
    "Rather than work in the space of prices, or log-returns, my model will work in the space of simple, one period returns. This model does not work within the context of risk-neutrality, or dynamic replication of an option. For this particular model, I value the call option as follows: \n",
    "\n",
    "$$\\text{Call} = S_0\\int_{K/S_0 - 1}^\\infty \\Big((1+r) - \\frac{K}{S_0}\\Big) \\phi(r)dr$$This requires an assumption of the form of $r$, the return over the period of the option. If we assume that returns are fat-tailed, we can use the Pareto distribution for r. That is, \n",
    "\n",
    "$$\\phi(r)= \\alpha  L^{\\alpha } {r}^{-\\alpha -1}$$\n",
    "\n",
    "$$E[r] = \\frac{\\alpha  L}{\\alpha -1}$$\n",
    "\n",
    "$$Var[r] = \\frac{\\alpha  L^2}{(\\alpha -2) (\\alpha -1)^2} \\text{ if } \\alpha >2$$With these dynamics for the returns $r$, we arrive at a form for the value of the call option. The term $\\alpha$ is the primary parameter of this distribution, and dictates the form of the distribution. L is essentially a scaling constant. \n",
    "\n",
    "$$\\text{Call} = S_0\\int_{K/S_0 - 1}^\\infty \\bigg((1+r) - \\frac{K}{S_0}\\bigg) \\alpha  L^{\\alpha } {r}^{-\\alpha -1}dr$$Fortunately, this equation is quite easy to solve, and converges to a simple expression: \n",
    "$$\\text{Call} = \\frac{(K-{S_0}) L^{\\alpha } \\left(\\frac{K}{{S0}}-1\\right)^{-\\alpha }}{(\\alpha -1)}$$As I will see later, we can see that the value of $\\alpha$ can be estimated from historical data for each stock, or one can be more generalized. The term $L$, however, can be fit to to the data.  This model does require the calibration of two variables to market data, which makes it considerably more difficult than just implied volatility. In any case, we solve for the term L, in terms of the call price: \n",
    "\n",
    "$$L = \\left(\\frac{\\frac{S_0 \\left(\\frac{K}{S_0}-1\\right)^{-\\alpha }}{1-\\alpha }-\\frac{K \\left(\\frac{K}{S_0}-1\\right)^{-\\alpha }}{1-\\alpha }}{\\text{Call}}\\right)^{-1/\\alpha }$$\n",
    "\n",
    "We can present a simpler form by making the following substitution: \n",
    "\n",
    "$$M = -\\frac{(\\frac{K}{S_0}-1)^{-\\alpha}}{1-\\alpha }$$\n",
    "\n",
    "And as a result, L is simply, \n",
    "\n",
    "$$L = \\Big(\\frac{M}{\\text{Call}}(K-S_0)\\Big)^{-1/\\alpha}$$\n",
    "\n",
    "With this, we can see that L can be quickly solved for with respect to the market prices of options.\n",
    "***\n",
    "# The Value of a Put Option\n",
    "Using the same dynamics, we can price a put option, \n",
    "$$\\text{Put} = S_0 \\int_{1 - K/S_0}^1 \\bigg(\\frac{K}{S_0} - (1-r)\\bigg)\\alpha  L^{\\alpha } {r}^{-\\alpha -1}dr$$where the price of a put is,\n",
    "\n",
    "$$\\text{Put}  = -\\frac{L^{\\alpha } \\left((K-S_0) \\left(1-\\frac{K}{S_0}\\right)^{-\\alpha }+S_0+\\alpha  K-K\\right)}{\\alpha -1}$$and for puts, the term L will be :\n",
    "\n",
    "$$L = \\left(\\frac{\\frac{S}{1-\\alpha }-\\frac{S \\left(1-\\frac{X}{S}\\right)^{-\\alpha }}{1-\\alpha }+\\frac{X \\left(1-\\frac{X}{S}\\right)^{-\\alpha }}{1-\\alpha }+\\frac{\\alpha  X}{1-\\alpha }-\\frac{X}{1-\\alpha }}{\\text{Put}}\\right)^{-1/\\alpha }$$where we simplify to: \n",
    "\n",
    "$$L = \\left(\\frac{MS_0-(M+1)*K -\\frac{S_0}{\\alpha -1}}{\\text{Put}}\\right)^{-1/\\alpha }$$With these formulas, we can now price out of the money options based on real data, and calibrate our model accordingly. If one has views on the \"true\" $\\alpha$ for a given stock, and find significantly different than the option implied $\\alpha$, one might wish to trade on it, as it may have positive expected value. \n",
    "***\n",
    "# Comparing Prices with Black Scholes\n",
    "As one might expect, the prices of these fat-tailed returns will be considerably considerably more expensive than options in the Black-Scholes world. Assigning realistic probabilities to extreme events in a convex payoff function will produce significantly higher prices for an out of the money option. Without going into too much detail into the math above, we can show that the prices are a  function of $\\alpha$, and a weaker function of $L$. Below is a graph that illustrates the price of an option for different values of $\\alpha$. \n"
   ]
  }
 ],
 "metadata": {
  "celltoolbar": "Edit Metadata",
  "kernelspec": {
   "display_name": "Python 3",
   "language": "python",
   "name": "python3"
  },
  "language_info": {
   "codemirror_mode": {
    "name": "ipython",
    "version": 3
   },
   "file_extension": ".py",
   "mimetype": "text/x-python",
   "name": "python",
   "nbconvert_exporter": "python",
   "pygments_lexer": "ipython3",
   "version": "3.6.5"
  }
 },
 "nbformat": 4,
 "nbformat_minor": 2
}
